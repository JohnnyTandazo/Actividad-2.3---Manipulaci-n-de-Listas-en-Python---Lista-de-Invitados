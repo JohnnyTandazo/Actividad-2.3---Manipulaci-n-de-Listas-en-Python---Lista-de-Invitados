{
 "cells": [
  {
   "cell_type": "code",
   "execution_count": null,
   "id": "0caff3f6",
   "metadata": {},
   "outputs": [
    {
     "name": "stdout",
     "output_type": "stream",
     "text": [
      "Ey Borjacs confirma una cena mañana\n",
      "Ey Mixwell a eso de las 5 de la tarde vamos a comer rodaballo confirma\n",
      "Ey Franluque vamos a comer despues de esas rankeds\n",
      "\n",
      "--- Un Cambio Inesperado ---\n",
      "Lamentablemente, Mixwell no podrá acompañarnos a la cena.\n",
      "\n",
      "--- ¡Nuevas Invitaciones para los Confirmados! ---\n",
      "¡Hola Borjacs! La cena sigue en pie. ¡Te esperamos con gusto!\n",
      "\n",
      "¡Hola Lucas Rojo! La cena sigue en pie. ¡Te esperamos con gusto!\n",
      "\n",
      "¡Hola Franluque! La cena sigue en pie. ¡Te esperamos con gusto!\n",
      "\n",
      "\n",
      "--- ¡Más Espacio en la Mesa! ---\n",
      "¡Grandes noticias! ¡Hemos conseguido una mesa más grande, así que podemos invitar a más amigos!\n",
      "\n",
      "--- ¡Invitaciones para Todos los Nuevos y Antiguos! ---\n",
      "¡Hola Auronplay! Estás cordialmente invitado/a a la cena. ¡Habrá más espacio para todos!\n",
      "\n",
      "¡Hola Borjacs! Estás cordialmente invitado/a a la cena. ¡Habrá más espacio para todos!\n",
      "\n",
      "¡Hola TheGrefg! Estás cordialmente invitado/a a la cena. ¡Habrá más espacio para todos!\n",
      "\n",
      "¡Hola Lucas Rojo! Estás cordialmente invitado/a a la cena. ¡Habrá más espacio para todos!\n",
      "\n",
      "¡Hola Franluque! Estás cordialmente invitado/a a la cena. ¡Habrá más espacio para todos!\n",
      "\n",
      "¡Hola Ibai Llanos! Estás cordialmente invitado/a a la cena. ¡Habrá más espacio para todos!\n",
      "\n"
     ]
    }
   ],
   "source": [
    "#1. Lista de Invitados\n",
    "Invitados=['Borjacs','Mixwell','Franluque']\n",
    "print(F\"Ey\",Invitados[0],\"confirma una cena mañana\")\n",
    "print(F\"Ey\",Invitados[1],\"a eso de las 5 de la tarde vamos a comer rodaballo confirma\")\n",
    "print(F\"Ey\",Invitados[2],\"vamos a comer despues de esas rankeds\")\n",
    "#2. Cambio en la Lista de Invitados\n",
    "invitado_que_no_puede_venir = \"Mixwell\"\n",
    "print(f\"\\n--- Un Cambio Inesperado ---\")\n",
    "print(f\"Lamentablemente, {invitado_que_no_puede_venir} no podrá acompañarnos a la cena.\")\n",
    "\n",
    "indice_de_mixwell = Invitados.index(invitado_que_no_puede_venir)\n",
    "nueva_persona = \"Lucas Rojo\"\n",
    "Invitados[indice_de_mixwell] = nueva_persona\n",
    "#3. Más Invitados\n",
    "print(\"\\n--- ¡Nuevas Invitaciones para los Confirmados! ---\")\n",
    "for nombre in Invitados:\n",
    "    print(f\"¡Hola {nombre}! La cena sigue en pie. ¡Te esperamos con gusto!\\n\")\n",
    "\n",
    "print(f\"\\n--- ¡Más Espacio en la Mesa! ---\")\n",
    "#4. Reducción de la Lista de Invitados\n",
    "print(\"¡Grandes noticias! ¡Hemos conseguido una mesa más grande, así que podemos invitar a más amigos!\")\n",
    "\n",
    "Invitados.insert(0, \"Auronplay\")\n",
    "\n",
    "posicion_media = len(Invitados) // 2\n",
    "Invitados.insert(posicion_media, \"TheGrefg\")\n",
    "\n",
    "Invitados.append(\"Ibai Llanos\")\n",
    "\n",
    "print(\"\\n--- ¡Invitaciones para Todos los Nuevos y Antiguos! ---\")\n",
    "for nombre in Invitados:\n",
    "    print(f\"¡Hola {nombre}! Estás cordialmente invitado/a a la cena. ¡Habrá más espacio para todos!\\n\")    "
   ]
  }
 ],
 "metadata": {
  "kernelspec": {
   "display_name": ".venv",
   "language": "python",
   "name": "python3"
  },
  "language_info": {
   "codemirror_mode": {
    "name": "ipython",
    "version": 3
   },
   "file_extension": ".py",
   "mimetype": "text/x-python",
   "name": "python",
   "nbconvert_exporter": "python",
   "pygments_lexer": "ipython3",
   "version": "3.11.9"
  }
 },
 "nbformat": 4,
 "nbformat_minor": 5
}
